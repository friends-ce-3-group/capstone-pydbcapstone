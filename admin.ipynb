{
 "cells": [
  {
   "cell_type": "markdown",
   "metadata": {},
   "source": [
    "Read config"
   ]
  },
  {
   "cell_type": "code",
   "execution_count": 1,
   "metadata": {},
   "outputs": [],
   "source": [
    "import os\n",
    "import pathlib\n",
    "from dotenv import load_dotenv\n",
    "\n",
    "load_dotenv(pathlib.Path(os.getcwd()) / \"local.env\", override=True)\n",
    "\n",
    "endpoint = os.environ.get(\"dbendpoint\")\n",
    "username = os.environ.get(\"dbusername\")\n",
    "password = os.environ.get(\"dbpassword\")\n",
    "dbname = os.environ.get(\"dbname\")"
   ]
  },
  {
   "cell_type": "markdown",
   "metadata": {},
   "source": [
    "Connect to DB"
   ]
  },
  {
   "cell_type": "code",
   "execution_count": 9,
   "metadata": {},
   "outputs": [],
   "source": [
    "import mysql.connector\n",
    "\n",
    "# Create a MySQL dbconnection\n",
    "dbconnection = mysql.connector.connect(\n",
    "    host=endpoint,\n",
    "    user=username,\n",
    "    password=password,\n",
    "    database=dbname\n",
    ")"
   ]
  },
  {
   "cell_type": "markdown",
   "metadata": {},
   "source": [
    "Show running processes"
   ]
  },
  {
   "cell_type": "code",
   "execution_count": 8,
   "metadata": {},
   "outputs": [
    {
     "name": "stdout",
     "output_type": "stream",
     "text": [
      "194\n",
      "195\n",
      "233\n"
     ]
    },
    {
     "ename": "DatabaseError",
     "evalue": "1317 (70100): Query execution was interrupted",
     "output_type": "error",
     "traceback": [
      "\u001b[1;31m---------------------------------------------------------------------------\u001b[0m",
      "\u001b[1;31mMySQLInterfaceError\u001b[0m                       Traceback (most recent call last)",
      "File \u001b[1;32mc:\\Users\\lowch\\anaconda3\\Lib\\site-packages\\mysql\\connector\\connection_cext.py:639\u001b[0m, in \u001b[0;36mCMySQLConnection.cmd_query\u001b[1;34m(self, query, raw, buffered, raw_as_string)\u001b[0m\n\u001b[0;32m    638\u001b[0m         query \u001b[39m=\u001b[39m query\u001b[39m.\u001b[39mencode(\u001b[39m\"\u001b[39m\u001b[39mutf-8\u001b[39m\u001b[39m\"\u001b[39m)\n\u001b[1;32m--> 639\u001b[0m     \u001b[39mself\u001b[39m\u001b[39m.\u001b[39m_cmysql\u001b[39m.\u001b[39mquery(\n\u001b[0;32m    640\u001b[0m         query,\n\u001b[0;32m    641\u001b[0m         raw\u001b[39m=\u001b[39mraw,\n\u001b[0;32m    642\u001b[0m         buffered\u001b[39m=\u001b[39mbuffered,\n\u001b[0;32m    643\u001b[0m         raw_as_string\u001b[39m=\u001b[39mraw_as_string,\n\u001b[0;32m    644\u001b[0m         query_attrs\u001b[39m=\u001b[39m\u001b[39mself\u001b[39m\u001b[39m.\u001b[39mquery_attrs,\n\u001b[0;32m    645\u001b[0m     )\n\u001b[0;32m    646\u001b[0m \u001b[39mexcept\u001b[39;00m MySQLInterfaceError \u001b[39mas\u001b[39;00m err:\n",
      "\u001b[1;31mMySQLInterfaceError\u001b[0m: Query execution was interrupted",
      "\nThe above exception was the direct cause of the following exception:\n",
      "\u001b[1;31mDatabaseError\u001b[0m                             Traceback (most recent call last)",
      "\u001b[1;32md:\\repos\\learning\\friends-ce-3-group\\capstone-pydbcapstone\\admin.ipynb Cell 6\u001b[0m line \u001b[0;36m1\n\u001b[0;32m      <a href='vscode-notebook-cell:/d%3A/repos/learning/friends-ce-3-group/capstone-pydbcapstone/admin.ipynb#X55sZmlsZQ%3D%3D?line=7'>8</a>\u001b[0m \u001b[39mif\u001b[39;00m r[\u001b[39m1\u001b[39m] \u001b[39m==\u001b[39m \u001b[39m\"\u001b[39m\u001b[39madmin\u001b[39m\u001b[39m\"\u001b[39m:\n\u001b[0;32m      <a href='vscode-notebook-cell:/d%3A/repos/learning/friends-ce-3-group/capstone-pydbcapstone/admin.ipynb#X55sZmlsZQ%3D%3D?line=8'>9</a>\u001b[0m     \u001b[39mprint\u001b[39m(r[\u001b[39m0\u001b[39m])\n\u001b[1;32m---> <a href='vscode-notebook-cell:/d%3A/repos/learning/friends-ce-3-group/capstone-pydbcapstone/admin.ipynb#X55sZmlsZQ%3D%3D?line=9'>10</a>\u001b[0m     cursor\u001b[39m.\u001b[39mexecute(\u001b[39m\"\u001b[39m\u001b[39mKILL \u001b[39m\u001b[39m{}\u001b[39;00m\u001b[39m\"\u001b[39m\u001b[39m.\u001b[39mformat(r[\u001b[39m0\u001b[39m]))\n",
      "File \u001b[1;32mc:\\Users\\lowch\\anaconda3\\Lib\\site-packages\\mysql\\connector\\cursor_cext.py:330\u001b[0m, in \u001b[0;36mCMySQLCursor.execute\u001b[1;34m(self, operation, params, multi)\u001b[0m\n\u001b[0;32m    325\u001b[0m             \u001b[39mraise\u001b[39;00m ProgrammingError(\n\u001b[0;32m    326\u001b[0m                 \u001b[39m\"\u001b[39m\u001b[39mNot all parameters were used in the SQL statement\u001b[39m\u001b[39m\"\u001b[39m\n\u001b[0;32m    327\u001b[0m             )\n\u001b[0;32m    329\u001b[0m \u001b[39mtry\u001b[39;00m:\n\u001b[1;32m--> 330\u001b[0m     result \u001b[39m=\u001b[39m \u001b[39mself\u001b[39m\u001b[39m.\u001b[39m_cnx\u001b[39m.\u001b[39mcmd_query(\n\u001b[0;32m    331\u001b[0m         stmt,\n\u001b[0;32m    332\u001b[0m         raw\u001b[39m=\u001b[39m\u001b[39mself\u001b[39m\u001b[39m.\u001b[39m_raw,\n\u001b[0;32m    333\u001b[0m         buffered\u001b[39m=\u001b[39m\u001b[39mself\u001b[39m\u001b[39m.\u001b[39m_buffered,\n\u001b[0;32m    334\u001b[0m         raw_as_string\u001b[39m=\u001b[39m\u001b[39mself\u001b[39m\u001b[39m.\u001b[39m_raw_as_string,\n\u001b[0;32m    335\u001b[0m     )\n\u001b[0;32m    336\u001b[0m \u001b[39mexcept\u001b[39;00m MySQLInterfaceError \u001b[39mas\u001b[39;00m err:\n\u001b[0;32m    337\u001b[0m     \u001b[39mraise\u001b[39;00m get_mysql_exception(\n\u001b[0;32m    338\u001b[0m         msg\u001b[39m=\u001b[39merr\u001b[39m.\u001b[39mmsg, errno\u001b[39m=\u001b[39merr\u001b[39m.\u001b[39merrno, sqlstate\u001b[39m=\u001b[39merr\u001b[39m.\u001b[39msqlstate\n\u001b[0;32m    339\u001b[0m     ) \u001b[39mfrom\u001b[39;00m \u001b[39merr\u001b[39;00m\n",
      "File \u001b[1;32mc:\\Users\\lowch\\anaconda3\\Lib\\site-packages\\mysql\\connector\\opentelemetry\\context_propagation.py:77\u001b[0m, in \u001b[0;36mwith_context_propagation.<locals>.wrapper\u001b[1;34m(cnx, *args, **kwargs)\u001b[0m\n\u001b[0;32m     75\u001b[0m \u001b[39m\u001b[39m\u001b[39m\"\"\"Context propagation decorator.\"\"\"\u001b[39;00m\n\u001b[0;32m     76\u001b[0m \u001b[39mif\u001b[39;00m \u001b[39mnot\u001b[39;00m OTEL_ENABLED \u001b[39mor\u001b[39;00m \u001b[39mnot\u001b[39;00m cnx\u001b[39m.\u001b[39motel_context_propagation:\n\u001b[1;32m---> 77\u001b[0m     \u001b[39mreturn\u001b[39;00m method(cnx, \u001b[39m*\u001b[39margs, \u001b[39m*\u001b[39m\u001b[39m*\u001b[39mkwargs)\n\u001b[0;32m     79\u001b[0m current_span \u001b[39m=\u001b[39m trace\u001b[39m.\u001b[39mget_current_span()\n\u001b[0;32m     80\u001b[0m tp_header \u001b[39m=\u001b[39m \u001b[39mNone\u001b[39;00m\n",
      "File \u001b[1;32mc:\\Users\\lowch\\anaconda3\\Lib\\site-packages\\mysql\\connector\\connection_cext.py:647\u001b[0m, in \u001b[0;36mCMySQLConnection.cmd_query\u001b[1;34m(self, query, raw, buffered, raw_as_string)\u001b[0m\n\u001b[0;32m    639\u001b[0m     \u001b[39mself\u001b[39m\u001b[39m.\u001b[39m_cmysql\u001b[39m.\u001b[39mquery(\n\u001b[0;32m    640\u001b[0m         query,\n\u001b[0;32m    641\u001b[0m         raw\u001b[39m=\u001b[39mraw,\n\u001b[1;32m   (...)\u001b[0m\n\u001b[0;32m    644\u001b[0m         query_attrs\u001b[39m=\u001b[39m\u001b[39mself\u001b[39m\u001b[39m.\u001b[39mquery_attrs,\n\u001b[0;32m    645\u001b[0m     )\n\u001b[0;32m    646\u001b[0m \u001b[39mexcept\u001b[39;00m MySQLInterfaceError \u001b[39mas\u001b[39;00m err:\n\u001b[1;32m--> 647\u001b[0m     \u001b[39mraise\u001b[39;00m get_mysql_exception(\n\u001b[0;32m    648\u001b[0m         err\u001b[39m.\u001b[39merrno, msg\u001b[39m=\u001b[39merr\u001b[39m.\u001b[39mmsg, sqlstate\u001b[39m=\u001b[39merr\u001b[39m.\u001b[39msqlstate\n\u001b[0;32m    649\u001b[0m     ) \u001b[39mfrom\u001b[39;00m \u001b[39merr\u001b[39;00m\n\u001b[0;32m    650\u001b[0m \u001b[39mexcept\u001b[39;00m \u001b[39mAttributeError\u001b[39;00m \u001b[39mas\u001b[39;00m err:\n\u001b[0;32m    651\u001b[0m     addr \u001b[39m=\u001b[39m (\n\u001b[0;32m    652\u001b[0m         \u001b[39mself\u001b[39m\u001b[39m.\u001b[39m_unix_socket \u001b[39mif\u001b[39;00m \u001b[39mself\u001b[39m\u001b[39m.\u001b[39m_unix_socket \u001b[39melse\u001b[39;00m \u001b[39mf\u001b[39m\u001b[39m\"\u001b[39m\u001b[39m{\u001b[39;00m\u001b[39mself\u001b[39m\u001b[39m.\u001b[39m_host\u001b[39m}\u001b[39;00m\u001b[39m:\u001b[39m\u001b[39m{\u001b[39;00m\u001b[39mself\u001b[39m\u001b[39m.\u001b[39m_port\u001b[39m}\u001b[39;00m\u001b[39m\"\u001b[39m\n\u001b[0;32m    653\u001b[0m     )\n",
      "\u001b[1;31mDatabaseError\u001b[0m: 1317 (70100): Query execution was interrupted"
     ]
    }
   ],
   "source": [
    "cursor = dbconnection.cursor()\n",
    "cursor.execute(\"SHOW FULL PROCESSLIST\")\n",
    "result = cursor.fetchall()\n",
    "# for r in result: print(r)\n",
    "\n",
    "\n",
    "for r in result:\n",
    "    if r[1] == \"admin\":\n",
    "        print(r[0])\n",
    "        cursor.execute(\"KILL {}\".format(r[0]))\n"
   ]
  },
  {
   "cell_type": "markdown",
   "metadata": {},
   "source": [
    "Clear Tables"
   ]
  },
  {
   "cell_type": "code",
   "execution_count": 10,
   "metadata": {},
   "outputs": [
    {
     "name": "stdout",
     "output_type": "stream",
     "text": [
      "existing:  [('Cards',), ('CardsCatalog',), ('Messages',)]\n"
     ]
    }
   ],
   "source": [
    "cursor = dbconnection.cursor()\n",
    "cursor.execute(\"SHOW TABLES\")\n",
    "tables = cursor.fetchall()\n",
    "\n",
    "print(\"existing: \", tables)"
   ]
  },
  {
   "cell_type": "code",
   "execution_count": null,
   "metadata": {},
   "outputs": [],
   "source": [
    "if tables.__len__() > 0:\n",
    "    cursor = dbconnection.cursor()\n",
    "    for table in tables:\n",
    "        drop_cmd = \"DROP TABLE {}\".format(table[0])\n",
    "        print(drop_cmd)\n",
    "        cursor.execute(drop_cmd)\n",
    "\n",
    "    cursor.close()\n",
    "\n",
    "    dbconnection.commit()\n",
    "\n",
    "cursor = dbconnection.cursor()\n",
    "cursor.execute(\"SHOW TABLES\")\n",
    "tables = cursor.fetchall()\n",
    "print(\"updated tables: \", tables)"
   ]
  },
  {
   "cell_type": "markdown",
   "metadata": {},
   "source": [
    "Create CardsCatalog table"
   ]
  },
  {
   "cell_type": "code",
   "execution_count": 10,
   "metadata": {},
   "outputs": [],
   "source": [
    "tablename = \"CardsCatalog\"\n",
    "\n",
    "cursor = dbconnection.cursor()\n",
    "cursor.execute(\"\"\"CREATE TABLE {} (cardkey varchar(256), \n",
    "               category varchar(256), \n",
    "               path varchar(256),\n",
    "               backgroundColor varchar(256))\n",
    "               \"\"\".format(tablename))\n",
    "result = cursor.fetchall()\n",
    "cursor.close()\n",
    "dbconnection.commit()\n"
   ]
  },
  {
   "cell_type": "code",
   "execution_count": null,
   "metadata": {},
   "outputs": [],
   "source": [
    "cursor = dbconnection.cursor()\n",
    "cursor.execute(\"SHOW COLUMNS FROM {}\".format(tablename))\n",
    "result = cursor.fetchall()\n",
    "cursor.close()\n",
    "for r in result: print(r)"
   ]
  },
  {
   "cell_type": "markdown",
   "metadata": {},
   "source": [
    "Create Cards table"
   ]
  },
  {
   "cell_type": "code",
   "execution_count": null,
   "metadata": {},
   "outputs": [],
   "source": [
    "cursor = dbconnection.cursor()\n",
    "tablename = \"Cards\"\n",
    "cursor.execute(\"\"\"CREATE TABLE {} (id varchar(256),\n",
    "               imageKey varchar(256), \n",
    "               imageCategory varchar(256), \n",
    "               imagePath varchar(256), \n",
    "               imageBackgroundColor varchar(256), \n",
    "               recipientName varchar(256), \n",
    "               recipientEmail varchar(256), \n",
    "               senderName varchar(256), \n",
    "               senderEmail varchar(256), \n",
    "               sendDate varchar(256), \n",
    "               sendTime varchar(256), \n",
    "               sendTimezone varchar(256), \n",
    "               createdDataTime varchar(256))\n",
    "               \"\"\".format(tablename))\n",
    "result = cursor.fetchall()\n",
    "cursor.close()\n",
    "dbconnection.commit()\n"
   ]
  },
  {
   "cell_type": "code",
   "execution_count": null,
   "metadata": {},
   "outputs": [],
   "source": [
    "cursor = dbconnection.cursor()\n",
    "cursor.execute(\"SHOW COLUMNS FROM {}\".format(tablename))\n",
    "result = cursor.fetchall()\n",
    "cursor.close()\n",
    "for r in result: print(r)"
   ]
  },
  {
   "cell_type": "markdown",
   "metadata": {},
   "source": [
    "Create Messages table"
   ]
  },
  {
   "cell_type": "code",
   "execution_count": null,
   "metadata": {},
   "outputs": [],
   "source": [
    "cursor = dbconnection.cursor()\n",
    "tablename = \"Messages\"\n",
    "cursor.execute(\"\"\"CREATE TABLE {} (id varchar(256),\n",
    "               cardId varchar(256), \n",
    "               name varchar(256), \n",
    "               message varchar(256), \n",
    "               wordCount varchar(256), \n",
    "               createdDateTime varchar(256))\n",
    "               \"\"\".format(tablename))\n",
    "result = cursor.fetchall()\n",
    "cursor.close()\n",
    "dbconnection.commit()\n"
   ]
  },
  {
   "cell_type": "code",
   "execution_count": null,
   "metadata": {},
   "outputs": [],
   "source": [
    "cursor = dbconnection.cursor()\n",
    "cursor.execute(\"SHOW COLUMNS FROM {}\".format(tablename))\n",
    "result = cursor.fetchall()\n",
    "cursor.close()\n",
    "for r in result: print(r)"
   ]
  },
  {
   "cell_type": "markdown",
   "metadata": {},
   "source": [
    "End"
   ]
  },
  {
   "cell_type": "code",
   "execution_count": null,
   "metadata": {},
   "outputs": [],
   "source": [
    "dbconnection.close()"
   ]
  }
 ],
 "metadata": {
  "kernelspec": {
   "display_name": "base",
   "language": "python",
   "name": "python3"
  },
  "language_info": {
   "codemirror_mode": {
    "name": "ipython",
    "version": 3
   },
   "file_extension": ".py",
   "mimetype": "text/x-python",
   "name": "python",
   "nbconvert_exporter": "python",
   "pygments_lexer": "ipython3",
   "version": "3.11.3"
  }
 },
 "nbformat": 4,
 "nbformat_minor": 2
}
