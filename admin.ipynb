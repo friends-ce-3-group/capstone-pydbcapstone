{
 "cells": [
  {
   "cell_type": "markdown",
   "metadata": {},
   "source": [
    "Read config"
   ]
  },
  {
   "cell_type": "code",
   "execution_count": 27,
   "metadata": {},
   "outputs": [],
   "source": [
    "import os\n",
    "import pathlib\n",
    "from dotenv import load_dotenv\n",
    "\n",
    "load_dotenv(pathlib.Path(os.getcwd()) / \"local.env\", override=True)\n",
    "\n",
    "endpoint = os.environ.get(\"dbendpoint\")\n",
    "username = os.environ.get(\"dbusername\")\n",
    "password = os.environ.get(\"dbpassword\")\n",
    "dbname = os.environ.get(\"dbname\")"
   ]
  },
  {
   "cell_type": "markdown",
   "metadata": {},
   "source": [
    "Connect to DB"
   ]
  },
  {
   "cell_type": "code",
   "execution_count": 28,
   "metadata": {},
   "outputs": [],
   "source": [
    "import mysql.connector\n",
    "\n",
    "# Create a MySQL dbconnection\n",
    "dbconnection = mysql.connector.connect(\n",
    "    host=endpoint,\n",
    "    user=username,\n",
    "    password=password,\n",
    "    database=dbname\n",
    ")"
   ]
  },
  {
   "cell_type": "markdown",
   "metadata": {},
   "source": [
    "Show running processes"
   ]
  },
  {
   "cell_type": "code",
   "execution_count": 31,
   "metadata": {},
   "outputs": [],
   "source": [
    "cursor = dbconnection.cursor()\n",
    "cursor.execute(\"SHOW FULL PROCESSLIST\")\n",
    "result = cursor.fetchall()"
   ]
  },
  {
   "cell_type": "code",
   "execution_count": 33,
   "metadata": {},
   "outputs": [
    {
     "name": "stdout",
     "output_type": "stream",
     "text": [
      "(2, 'rdsadmin', 'localhost', None, 'Sleep', 11, '', None)\n",
      "(7, 'rdsadmin', 'localhost', None, 'Sleep', 1, '', None)\n",
      "(3442, 'admin', '188.166.239.163:64470', 'friendscapstonerds', 'Sleep', 26296, '', None)\n",
      "(3446, 'admin', '30.0.3.62:38604', 'friendscapstonerds', 'Query', 305, 'Waiting for table metadata lock', \"INSERT INTO Cards \\n            (id, imageKey, imageCategory, imagePath, imageBackgroundColor, recipientName, recipientEmail, senderName, \\n            senderEmail, sendDate, sendTime, sendTimezone, createdDataTime) \\n            VALUES ('e15cad2b-fc29-4pqjsks-b9f3-eb8650b4f0b4', '2c5a30ca-ba57-4adc-9473-e9ef3e658b12', 'Birthday', 'Public-Birthday-8629b644-e563-47ed-90b7-8fdf78709d83-birthday1.jpg', '#ffffff', 'lowcheemeng', 'lowcheemeng02@gmail.com', 'justin lim', 'justin@email.com', '2023-11-17', '22:00:00', 'Pacific/Midway', '1700150370938')\")\n",
      "(3528, 'admin', '181.219.238.4:47472', None, 'Sleep', 3392, '', None)\n",
      "(3529, 'admin', '181.219.238.4:47474', None, 'Query', 3391, 'Waiting for table metadata lock', 'DROP DATABASE `friendscapstonerds`')\n",
      "(3541, 'admin', '188.166.239.163:64728', 'friendscapstonerds', 'Query', 0, 'starting', 'SHOW FULL PROCESSLIST')\n",
      "(3542, 'admin', '188.166.239.163:64736', 'friendscapstonerds', 'Sleep', 180, '', None)\n",
      "(3543, 'admin', '30.0.4.224:55304', 'friendscapstonerds', 'Sleep', 135, '', None)\n"
     ]
    }
   ],
   "source": [
    "for r in result: print(r)"
   ]
  },
  {
   "cell_type": "code",
   "execution_count": 39,
   "metadata": {},
   "outputs": [
    {
     "name": "stdout",
     "output_type": "stream",
     "text": [
      "[]\n"
     ]
    }
   ],
   "source": [
    "cursor = dbconnection.cursor()\n",
    "cursor.execute(\"KILL 3542\")\n",
    "result = cursor.fetchall()\n",
    "\n",
    "dbconnection.commit()\n",
    "cursor.close()\n",
    "print(result)"
   ]
  },
  {
   "cell_type": "markdown",
   "metadata": {},
   "source": [
    "Clear Tables"
   ]
  },
  {
   "cell_type": "code",
   "execution_count": 30,
   "metadata": {},
   "outputs": [
    {
     "name": "stdout",
     "output_type": "stream",
     "text": [
      "existing:  [('Cards',), ('CardsCatalog',), ('Messages',)]\n"
     ]
    }
   ],
   "source": [
    "cursor = dbconnection.cursor()\n",
    "cursor.execute(\"SHOW TABLES\")\n",
    "tables = cursor.fetchall()\n",
    "\n",
    "print(\"existing: \", tables)"
   ]
  },
  {
   "cell_type": "code",
   "execution_count": 5,
   "metadata": {},
   "outputs": [
    {
     "name": "stdout",
     "output_type": "stream",
     "text": [
      "DROP TABLE README\n",
      "updated tables:  []\n"
     ]
    }
   ],
   "source": [
    "if tables.__len__() > 0:\n",
    "    cursor = dbconnection.cursor()\n",
    "    for table in tables:\n",
    "        drop_cmd = \"DROP TABLE {}\".format(table[0])\n",
    "        print(drop_cmd)\n",
    "        cursor.execute(drop_cmd)\n",
    "\n",
    "    cursor.close()\n",
    "\n",
    "    dbconnection.commit()\n",
    "\n",
    "cursor = dbconnection.cursor()\n",
    "cursor.execute(\"SHOW TABLES\")\n",
    "tables = cursor.fetchall()\n",
    "print(\"updated tables: \", tables)"
   ]
  },
  {
   "cell_type": "markdown",
   "metadata": {},
   "source": [
    "Create CardsCatalog table"
   ]
  },
  {
   "cell_type": "code",
   "execution_count": 6,
   "metadata": {},
   "outputs": [],
   "source": [
    "tablename = \"CardsCatalog\"\n",
    "\n",
    "cursor = dbconnection.cursor()\n",
    "cursor.execute(\"\"\"CREATE TABLE {} (cardkey varchar(256), \n",
    "               category varchar(256), \n",
    "               path varchar(256),\n",
    "               backgroundColor varchar(256))\n",
    "               \"\"\".format(tablename))\n",
    "result = cursor.fetchall()\n",
    "cursor.close()\n",
    "dbconnection.commit()\n"
   ]
  },
  {
   "cell_type": "code",
   "execution_count": 7,
   "metadata": {},
   "outputs": [
    {
     "name": "stdout",
     "output_type": "stream",
     "text": [
      "('cardkey', 'varchar(256)', 'YES', '', None, '')\n",
      "('category', 'varchar(256)', 'YES', '', None, '')\n",
      "('path', 'varchar(256)', 'YES', '', None, '')\n",
      "('backgroundColor', 'varchar(256)', 'YES', '', None, '')\n"
     ]
    }
   ],
   "source": [
    "cursor = dbconnection.cursor()\n",
    "cursor.execute(\"SHOW COLUMNS FROM {}\".format(tablename))\n",
    "result = cursor.fetchall()\n",
    "cursor.close()\n",
    "for r in result: print(r)"
   ]
  },
  {
   "cell_type": "markdown",
   "metadata": {},
   "source": [
    "Create Cards table"
   ]
  },
  {
   "cell_type": "code",
   "execution_count": 8,
   "metadata": {},
   "outputs": [],
   "source": [
    "cursor = dbconnection.cursor()\n",
    "tablename = \"Cards\"\n",
    "cursor.execute(\"\"\"CREATE TABLE {} (id varchar(256),\n",
    "               imageKey varchar(256), \n",
    "               imageCategory varchar(256), \n",
    "               imagePath varchar(256), \n",
    "               imageBackgroundColor varchar(256), \n",
    "               recipientName varchar(256), \n",
    "               recipientEmail varchar(256), \n",
    "               senderName varchar(256), \n",
    "               senderEmail varchar(256), \n",
    "               sendDate varchar(256), \n",
    "               sendTime varchar(256), \n",
    "               sendTimezone varchar(256), \n",
    "               createdDataTime varchar(256))\n",
    "               \"\"\".format(tablename))\n",
    "result = cursor.fetchall()\n",
    "cursor.close()\n",
    "dbconnection.commit()\n"
   ]
  },
  {
   "cell_type": "code",
   "execution_count": 9,
   "metadata": {},
   "outputs": [
    {
     "name": "stdout",
     "output_type": "stream",
     "text": [
      "('id', 'varchar(256)', 'YES', '', None, '')\n",
      "('imageKey', 'varchar(256)', 'YES', '', None, '')\n",
      "('imageCategory', 'varchar(256)', 'YES', '', None, '')\n",
      "('imagePath', 'varchar(256)', 'YES', '', None, '')\n",
      "('imageBackgroundColor', 'varchar(256)', 'YES', '', None, '')\n",
      "('recipientName', 'varchar(256)', 'YES', '', None, '')\n",
      "('recipientEmail', 'varchar(256)', 'YES', '', None, '')\n",
      "('senderName', 'varchar(256)', 'YES', '', None, '')\n",
      "('senderEmail', 'varchar(256)', 'YES', '', None, '')\n",
      "('sendDate', 'varchar(256)', 'YES', '', None, '')\n",
      "('sendTime', 'varchar(256)', 'YES', '', None, '')\n",
      "('sendTimezone', 'varchar(256)', 'YES', '', None, '')\n",
      "('createdDataTime', 'varchar(256)', 'YES', '', None, '')\n"
     ]
    }
   ],
   "source": [
    "cursor = dbconnection.cursor()\n",
    "cursor.execute(\"SHOW COLUMNS FROM {}\".format(tablename))\n",
    "result = cursor.fetchall()\n",
    "cursor.close()\n",
    "for r in result: print(r)"
   ]
  },
  {
   "cell_type": "markdown",
   "metadata": {},
   "source": [
    "Create Messages table"
   ]
  },
  {
   "cell_type": "code",
   "execution_count": 10,
   "metadata": {},
   "outputs": [],
   "source": [
    "cursor = dbconnection.cursor()\n",
    "tablename = \"Messages\"\n",
    "cursor.execute(\"\"\"CREATE TABLE {} (id varchar(256),\n",
    "               cardId varchar(256), \n",
    "               name varchar(256), \n",
    "               message varchar(256), \n",
    "               wordCount varchar(256), \n",
    "               createdDateTime varchar(256))\n",
    "               \"\"\".format(tablename))\n",
    "result = cursor.fetchall()\n",
    "cursor.close()\n",
    "dbconnection.commit()\n"
   ]
  },
  {
   "cell_type": "code",
   "execution_count": 11,
   "metadata": {},
   "outputs": [
    {
     "name": "stdout",
     "output_type": "stream",
     "text": [
      "('id', 'varchar(256)', 'YES', '', None, '')\n",
      "('cardId', 'varchar(256)', 'YES', '', None, '')\n",
      "('name', 'varchar(256)', 'YES', '', None, '')\n",
      "('message', 'varchar(256)', 'YES', '', None, '')\n",
      "('wordCount', 'varchar(256)', 'YES', '', None, '')\n",
      "('createdDateTime', 'varchar(256)', 'YES', '', None, '')\n"
     ]
    }
   ],
   "source": [
    "cursor = dbconnection.cursor()\n",
    "cursor.execute(\"SHOW COLUMNS FROM {}\".format(tablename))\n",
    "result = cursor.fetchall()\n",
    "cursor.close()\n",
    "for r in result: print(r)"
   ]
  },
  {
   "cell_type": "markdown",
   "metadata": {},
   "source": [
    "End"
   ]
  },
  {
   "cell_type": "code",
   "execution_count": 12,
   "metadata": {},
   "outputs": [],
   "source": [
    "dbconnection.close()"
   ]
  }
 ],
 "metadata": {
  "kernelspec": {
   "display_name": "base",
   "language": "python",
   "name": "python3"
  },
  "language_info": {
   "codemirror_mode": {
    "name": "ipython",
    "version": 3
   },
   "file_extension": ".py",
   "mimetype": "text/x-python",
   "name": "python",
   "nbconvert_exporter": "python",
   "pygments_lexer": "ipython3",
   "version": "3.11.3"
  }
 },
 "nbformat": 4,
 "nbformat_minor": 2
}
