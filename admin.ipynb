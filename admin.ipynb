{
 "cells": [
  {
   "cell_type": "markdown",
   "metadata": {},
   "source": [
    "Read config"
   ]
  },
  {
   "cell_type": "code",
   "execution_count": 70,
   "metadata": {},
   "outputs": [],
   "source": [
    "import os\n",
    "import pathlib\n",
    "from dotenv import load_dotenv\n",
    "\n",
    "load_dotenv(pathlib.Path(os.getcwd()) / \"local.env\", override=True)\n",
    "\n",
    "endpoint = os.environ.get(\"dbendpoint\")\n",
    "username = os.environ.get(\"dbusername\")\n",
    "password = os.environ.get(\"dbpassword\")\n",
    "dbname = os.environ.get(\"dbname\")"
   ]
  },
  {
   "cell_type": "markdown",
   "metadata": {},
   "source": [
    "Connect to DB"
   ]
  },
  {
   "cell_type": "code",
   "execution_count": 71,
   "metadata": {},
   "outputs": [],
   "source": [
    "import mysql.connector\n",
    "\n",
    "# Create a MySQL dbconnection\n",
    "dbconnection = mysql.connector.connect(\n",
    "    host=endpoint,\n",
    "    user=username,\n",
    "    password=password,\n",
    "    database=dbname\n",
    ")"
   ]
  },
  {
   "cell_type": "markdown",
   "metadata": {},
   "source": [
    "Show running processes"
   ]
  },
  {
   "cell_type": "code",
   "execution_count": 72,
   "metadata": {},
   "outputs": [],
   "source": [
    "cursor = dbconnection.cursor()\n",
    "cursor.execute(\"SHOW FULL PROCESSLIST\")\n",
    "result = cursor.fetchall()"
   ]
  },
  {
   "cell_type": "code",
   "execution_count": null,
   "metadata": {},
   "outputs": [],
   "source": [
    "for r in result: print(r)"
   ]
  },
  {
   "cell_type": "code",
   "execution_count": null,
   "metadata": {},
   "outputs": [],
   "source": [
    "# cursor = dbconnection.cursor()\n",
    "# cursor.execute(\"KILL 3542\")\n",
    "# result = cursor.fetchall()\n",
    "\n",
    "# dbconnection.commit()\n",
    "# cursor.close()\n",
    "# print(result)"
   ]
  },
  {
   "cell_type": "markdown",
   "metadata": {},
   "source": [
    "Clear Tables"
   ]
  },
  {
   "cell_type": "code",
   "execution_count": 73,
   "metadata": {},
   "outputs": [
    {
     "name": "stdout",
     "output_type": "stream",
     "text": [
      "existing:  [('Cards',), ('CardsCatalog',), ('Messages',)]\n"
     ]
    }
   ],
   "source": [
    "cursor = dbconnection.cursor()\n",
    "cursor.execute(\"SHOW TABLES\")\n",
    "tables = cursor.fetchall()\n",
    "\n",
    "print(\"existing: \", tables)"
   ]
  },
  {
   "cell_type": "code",
   "execution_count": 57,
   "metadata": {},
   "outputs": [
    {
     "name": "stdout",
     "output_type": "stream",
     "text": [
      "updated tables:  []\n"
     ]
    }
   ],
   "source": [
    "if tables.__len__() > 0:\n",
    "    cursor = dbconnection.cursor()\n",
    "    for table in tables:\n",
    "        drop_cmd = \"DROP TABLE {}\".format(table[0])\n",
    "        print(drop_cmd)\n",
    "        cursor.execute(drop_cmd)\n",
    "\n",
    "    cursor.close()\n",
    "\n",
    "    dbconnection.commit()\n",
    "\n",
    "cursor = dbconnection.cursor()\n",
    "cursor.execute(\"SHOW TABLES\")\n",
    "tables = cursor.fetchall()\n",
    "print(\"updated tables: \", tables)"
   ]
  },
  {
   "cell_type": "markdown",
   "metadata": {},
   "source": [
    "Create CardsCatalog table"
   ]
  },
  {
   "cell_type": "code",
   "execution_count": 58,
   "metadata": {},
   "outputs": [],
   "source": [
    "tablename = \"CardsCatalog\"\n",
    "\n",
    "cursor = dbconnection.cursor()\n",
    "cursor.execute(\"\"\"CREATE TABLE {} (cardkey varchar(256), \n",
    "               category varchar(256), \n",
    "               path varchar(256),\n",
    "               backgroundColor varchar(256))\n",
    "               \"\"\".format(tablename))\n",
    "result = cursor.fetchall()\n",
    "cursor.close()\n",
    "dbconnection.commit()\n"
   ]
  },
  {
   "cell_type": "code",
   "execution_count": 59,
   "metadata": {},
   "outputs": [
    {
     "name": "stdout",
     "output_type": "stream",
     "text": [
      "('cardkey', 'varchar(256)', 'YES', '', None, '')\n",
      "('category', 'varchar(256)', 'YES', '', None, '')\n",
      "('path', 'varchar(256)', 'YES', '', None, '')\n",
      "('backgroundColor', 'varchar(256)', 'YES', '', None, '')\n"
     ]
    }
   ],
   "source": [
    "cursor = dbconnection.cursor()\n",
    "cursor.execute(\"SHOW COLUMNS FROM {}\".format(tablename))\n",
    "result = cursor.fetchall()\n",
    "cursor.close()\n",
    "for r in result: print(r)"
   ]
  },
  {
   "cell_type": "markdown",
   "metadata": {},
   "source": [
    "Create Cards table"
   ]
  },
  {
   "cell_type": "code",
   "execution_count": 60,
   "metadata": {},
   "outputs": [],
   "source": [
    "cursor = dbconnection.cursor()\n",
    "tablename = \"Cards\"\n",
    "cursor.execute(\"\"\"CREATE TABLE {} (id varchar(256),\n",
    "               imageKey varchar(256), \n",
    "               imageCategory varchar(256), \n",
    "               imagePath varchar(256), \n",
    "               imageBackgroundColor varchar(256), \n",
    "               recipientName varchar(256), \n",
    "               recipientEmail varchar(256), \n",
    "               senderName varchar(256), \n",
    "               senderEmail varchar(256), \n",
    "               sendDate varchar(256), \n",
    "               sendTime varchar(256), \n",
    "               sendTimezone varchar(256), \n",
    "               createdDataTime varchar(256))\n",
    "               \"\"\".format(tablename))\n",
    "result = cursor.fetchall()\n",
    "cursor.close()\n",
    "dbconnection.commit()\n"
   ]
  },
  {
   "cell_type": "code",
   "execution_count": 61,
   "metadata": {},
   "outputs": [
    {
     "name": "stdout",
     "output_type": "stream",
     "text": [
      "('id', 'varchar(256)', 'YES', '', None, '')\n",
      "('imageKey', 'varchar(256)', 'YES', '', None, '')\n",
      "('imageCategory', 'varchar(256)', 'YES', '', None, '')\n",
      "('imagePath', 'varchar(256)', 'YES', '', None, '')\n",
      "('imageBackgroundColor', 'varchar(256)', 'YES', '', None, '')\n",
      "('recipientName', 'varchar(256)', 'YES', '', None, '')\n",
      "('recipientEmail', 'varchar(256)', 'YES', '', None, '')\n",
      "('senderName', 'varchar(256)', 'YES', '', None, '')\n",
      "('senderEmail', 'varchar(256)', 'YES', '', None, '')\n",
      "('sendDate', 'varchar(256)', 'YES', '', None, '')\n",
      "('sendTime', 'varchar(256)', 'YES', '', None, '')\n",
      "('sendTimezone', 'varchar(256)', 'YES', '', None, '')\n",
      "('createdDataTime', 'varchar(256)', 'YES', '', None, '')\n"
     ]
    }
   ],
   "source": [
    "cursor = dbconnection.cursor()\n",
    "cursor.execute(\"SHOW COLUMNS FROM {}\".format(tablename))\n",
    "result = cursor.fetchall()\n",
    "cursor.close()\n",
    "for r in result: print(r)"
   ]
  },
  {
   "cell_type": "markdown",
   "metadata": {},
   "source": [
    "Create Messages table"
   ]
  },
  {
   "cell_type": "code",
   "execution_count": 62,
   "metadata": {},
   "outputs": [],
   "source": [
    "cursor = dbconnection.cursor()\n",
    "tablename = \"Messages\"\n",
    "cursor.execute(\"\"\"CREATE TABLE {} (id varchar(256),\n",
    "               cardId varchar(256), \n",
    "               name varchar(256), \n",
    "               message varchar(256), \n",
    "               wordCount varchar(256), \n",
    "               createdDateTime varchar(256))\n",
    "               \"\"\".format(tablename))\n",
    "result = cursor.fetchall()\n",
    "cursor.close()\n",
    "dbconnection.commit()\n"
   ]
  },
  {
   "cell_type": "code",
   "execution_count": 63,
   "metadata": {},
   "outputs": [
    {
     "name": "stdout",
     "output_type": "stream",
     "text": [
      "('id', 'varchar(256)', 'YES', '', None, '')\n",
      "('cardId', 'varchar(256)', 'YES', '', None, '')\n",
      "('name', 'varchar(256)', 'YES', '', None, '')\n",
      "('message', 'varchar(256)', 'YES', '', None, '')\n",
      "('wordCount', 'varchar(256)', 'YES', '', None, '')\n",
      "('createdDateTime', 'varchar(256)', 'YES', '', None, '')\n"
     ]
    }
   ],
   "source": [
    "cursor = dbconnection.cursor()\n",
    "cursor.execute(\"SHOW COLUMNS FROM {}\".format(tablename))\n",
    "result = cursor.fetchall()\n",
    "cursor.close()\n",
    "for r in result: print(r)"
   ]
  },
  {
   "cell_type": "markdown",
   "metadata": {},
   "source": []
  },
  {
   "cell_type": "markdown",
   "metadata": {},
   "source": [
    "End"
   ]
  },
  {
   "cell_type": "code",
   "execution_count": 64,
   "metadata": {},
   "outputs": [],
   "source": [
    "dbconnection.close()"
   ]
  }
 ],
 "metadata": {
  "kernelspec": {
   "display_name": "base",
   "language": "python",
   "name": "python3"
  },
  "language_info": {
   "codemirror_mode": {
    "name": "ipython",
    "version": 3
   },
   "file_extension": ".py",
   "mimetype": "text/x-python",
   "name": "python",
   "nbconvert_exporter": "python",
   "pygments_lexer": "ipython3",
   "version": "3.11.3"
  }
 },
 "nbformat": 4,
 "nbformat_minor": 2
}
